{
 "cells": [
  {
   "cell_type": "code",
   "execution_count": 1,
   "metadata": {},
   "outputs": [],
   "source": [
    "from vector_stores import VectorStoreManager"
   ]
  },
  {
   "cell_type": "code",
   "execution_count": 3,
   "metadata": {},
   "outputs": [
    {
     "name": "stdout",
     "output_type": "stream",
     "text": [
      "in table dir C:\\Users\\adith\\Documents\\Projects\\python-projects\\csql-agent\\agents\\tables\\hdata\n",
      "Loading store for category 'hdata_bat_hand' from 'C:\\Users\\adith\\Documents\\Projects\\python-projects\\csql-agent\\agents\\tables\\hdata\\hdata_bat_hand'\n",
      "Loading store for category 'hdata_bat_out' from 'C:\\Users\\adith\\Documents\\Projects\\python-projects\\csql-agent\\agents\\tables\\hdata\\hdata_bat_out'\n",
      "Loading store for category 'hdata_bowl_kind' from 'C:\\Users\\adith\\Documents\\Projects\\python-projects\\csql-agent\\agents\\tables\\hdata\\hdata_bowl_kind'\n",
      "Loading store for category 'hdata_bowl_style' from 'C:\\Users\\adith\\Documents\\Projects\\python-projects\\csql-agent\\agents\\tables\\hdata\\hdata_bowl_style'\n",
      "Loading store for category 'hdata_competition' from 'C:\\Users\\adith\\Documents\\Projects\\python-projects\\csql-agent\\agents\\tables\\hdata\\hdata_competition'\n",
      "Loading store for category 'hdata_country' from 'C:\\Users\\adith\\Documents\\Projects\\python-projects\\csql-agent\\agents\\tables\\hdata\\hdata_country'\n",
      "Loading store for category 'hdata_dismissal' from 'C:\\Users\\adith\\Documents\\Projects\\python-projects\\csql-agent\\agents\\tables\\hdata\\hdata_dismissal'\n",
      "Loading store for category 'hdata_ground' from 'C:\\Users\\adith\\Documents\\Projects\\python-projects\\csql-agent\\agents\\tables\\hdata\\hdata_ground'\n",
      "Loading store for category 'hdata_length' from 'C:\\Users\\adith\\Documents\\Projects\\python-projects\\csql-agent\\agents\\tables\\hdata\\hdata_length'\n",
      "Loading store for category 'hdata_line' from 'C:\\Users\\adith\\Documents\\Projects\\python-projects\\csql-agent\\agents\\tables\\hdata\\hdata_line'\n",
      "Loading store for category 'hdata_player' from 'C:\\Users\\adith\\Documents\\Projects\\python-projects\\csql-agent\\agents\\tables\\hdata\\hdata_player'\n",
      "Loading store for category 'hdata_shot' from 'C:\\Users\\adith\\Documents\\Projects\\python-projects\\csql-agent\\agents\\tables\\hdata\\hdata_shot'\n",
      "Loading store for category 'hdata_team' from 'C:\\Users\\adith\\Documents\\Projects\\python-projects\\csql-agent\\agents\\tables\\hdata\\hdata_team'\n"
     ]
    },
    {
     "data": {
      "text/plain": [
       "[{'content': 'Virat Kohli'},\n",
       " {'content': 'Taruwar Kohli'},\n",
       " {'content': 'Manmeet Koli'},\n",
       " {'content': 'Dhawal Kulkarni'},\n",
       " {'content': 'Kavish Panchal'}]"
      ]
     },
     "execution_count": 3,
     "metadata": {},
     "output_type": "execute_result"
    }
   ],
   "source": [
    "vector_store_manager = VectorStoreManager()\n",
    "# vector_store_manager.add_examples_from_directory(\"C:\\\\Users\\\\adith\\\\Documents\\\\Projects\\\\python-projects\\\\csql-agent\\\\agents\\\\tables\\hdata\" ) # Still adds from the directory\n",
    "await vector_store_manager.search_similar_queries(\"v kohli\", \"hdata_player\") # Now use table_category in search"
   ]
  },
  {
   "cell_type": "code",
   "execution_count": null,
   "metadata": {},
   "outputs": [],
   "source": [
    "l"
   ]
  },
  {
   "cell_type": "code",
   "execution_count": 4,
   "metadata": {},
   "outputs": [
    {
     "data": {
      "text/plain": [
       "[{'content': 'Washington Sundar'},\n",
       " {'content': 'Surinder Singh'},\n",
       " {'content': 'P Saravana Kumar'},\n",
       " {'content': 'S Karthik'},\n",
       " {'content': 'Surya Anand'}]"
      ]
     },
     "execution_count": 4,
     "metadata": {},
     "output_type": "execute_result"
    }
   ],
   "source": [
    "await vector_store_manager.search_similar_queries(\"  w sundar i.\", \"hdata_player\")"
   ]
  },
  {
   "cell_type": "code",
   "execution_count": null,
   "metadata": {},
   "outputs": [],
   "source": []
  }
 ],
 "metadata": {
  "kernelspec": {
   "display_name": "venv",
   "language": "python",
   "name": "python3"
  },
  "language_info": {
   "codemirror_mode": {
    "name": "ipython",
    "version": 3
   },
   "file_extension": ".py",
   "mimetype": "text/x-python",
   "name": "python",
   "nbconvert_exporter": "python",
   "pygments_lexer": "ipython3",
   "version": "3.12.7"
  }
 },
 "nbformat": 4,
 "nbformat_minor": 2
}
